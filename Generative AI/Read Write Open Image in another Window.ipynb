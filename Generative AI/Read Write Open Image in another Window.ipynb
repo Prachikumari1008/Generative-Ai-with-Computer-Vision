{
 "cells": [
  {
   "cell_type": "markdown",
   "id": "8f9d8301-1f02-4648-b71c-ed1d3b13eb15",
   "metadata": {},
   "source": [
    "## Without using Matplotlib , Image Processing with Open CV"
   ]
  },
  {
   "cell_type": "code",
   "execution_count": 2,
   "id": "7602eeaf-d1fb-4e44-807f-590c32782fa5",
   "metadata": {},
   "outputs": [],
   "source": [
    "import cv2"
   ]
  },
  {
   "cell_type": "code",
   "execution_count": 3,
   "id": "e8243c9e-9422-447d-a8cd-1892e62cb178",
   "metadata": {},
   "outputs": [],
   "source": [
    "flower = cv2.imread(r'C:\\Users\\LENOVO\\Desktop\\Naresh IT\\Generative AI\\flowers.jpg')"
   ]
  },
  {
   "cell_type": "code",
   "execution_count": 3,
   "id": "6d58e975-d142-4d73-9986-dfc23ebedd03",
   "metadata": {},
   "outputs": [
    {
     "data": {
      "text/plain": [
       "numpy.ndarray"
      ]
     },
     "execution_count": 3,
     "metadata": {},
     "output_type": "execute_result"
    }
   ],
   "source": [
    "type(flower)"
   ]
  },
  {
   "cell_type": "code",
   "execution_count": 4,
   "id": "53ef9135-2349-4578-8a42-3a91be4ecf07",
   "metadata": {},
   "outputs": [],
   "source": [
    "# If the folder (rose.jpg) doesn't exist imread() doen't give any error but gives type as ' None '\n",
    "\n",
    "wrong_img = cv2.imread(r'C:\\Users\\LENOVO\\Desktop\\Naresh IT\\Generative AI\\rose.jpg')"
   ]
  },
  {
   "cell_type": "code",
   "execution_count": 5,
   "id": "013c4b9a-5e6b-49c3-988c-2cae009fa7fd",
   "metadata": {},
   "outputs": [
    {
     "data": {
      "text/plain": [
       "NoneType"
      ]
     },
     "execution_count": 5,
     "metadata": {},
     "output_type": "execute_result"
    }
   ],
   "source": [
    "type(wrong_img)"
   ]
  },
  {
   "cell_type": "code",
   "execution_count": 5,
   "id": "fd625067-cbcc-4135-9233-4950a099c535",
   "metadata": {},
   "outputs": [
    {
     "data": {
      "text/plain": [
       "27"
      ]
     },
     "execution_count": 5,
     "metadata": {},
     "output_type": "execute_result"
    }
   ],
   "source": [
    "#  Display image until key pressed\n",
    "\n",
    "cv2.imshow(\"FLOWER\", flower)\n",
    "cv2.waitKey()     #  waitKey() --> allows users to display a window for given milliseconds or until any key is pressed"
   ]
  },
  {
   "cell_type": "code",
   "execution_count": 6,
   "id": "9687f20c-6bf4-4ad9-9533-62e95be2d2d6",
   "metadata": {},
   "outputs": [],
   "source": [
    "# To germinate this loop press 'esc'\n",
    "while True :\n",
    "    cv2.imshow(\"FLOWER\", flower)\n",
    "    if cv2.waitKey(1) & 0xFF== 27:\n",
    "       break\n",
    "       \n",
    "cv2.destroyAllWindows()"
   ]
  },
  {
   "cell_type": "code",
   "execution_count": null,
   "id": "5634ba5e-2d64-46c6-9b35-284d862ea963",
   "metadata": {},
   "outputs": [],
   "source": []
  }
 ],
 "metadata": {
  "kernelspec": {
   "display_name": "Python 3 (ipykernel)",
   "language": "python",
   "name": "python3"
  },
  "language_info": {
   "codemirror_mode": {
    "name": "ipython",
    "version": 3
   },
   "file_extension": ".py",
   "mimetype": "text/x-python",
   "name": "python",
   "nbconvert_exporter": "python",
   "pygments_lexer": "ipython3",
   "version": "3.11.7"
  }
 },
 "nbformat": 4,
 "nbformat_minor": 5
}
